{
 "cells": [
  {
   "cell_type": "markdown",
   "metadata": {
    "colab_type": "text",
    "id": "CSMSA53tvvTF"
   },
   "source": [
    "## 1"
   ]
  },
  {
   "cell_type": "code",
   "execution_count": 0,
   "metadata": {
    "colab": {},
    "colab_type": "code",
    "collapsed": true,
    "id": "7ptoXimXvvTH"
   },
   "outputs": [],
   "source": [
    "from keras import backend as K\n",
    "from keras import metrics\n",
    "\n",
    "\n",
    "from pathlib import Path\n",
    "import pandas as pd\n",
    "import numpy as np\n",
    "import json\n",
    "import glob\n",
    "import os\n",
    "import os\n",
    "import cv2\n",
    "import glob\n",
    "import numpy as np\n",
    "import pandas as pd\n",
    "import random\n",
    "from tqdm import tqdm\n",
    "from pathlib import Path\n",
    "import matplotlib\n",
    "import matplotlib.pyplot as plt\n",
    "import matplotlib.image as mpimg\n",
    "#from mlxtend.plotting import plot_confusion_matrix\n",
    "from scipy import ndimage\n",
    "import skimage\n",
    "from skimage.io import imread\n",
    "from skimage.transform import resize\n",
    "from sklearn.utils import shuffle\n",
    "from sklearn.metrics import confusion_matrix, precision_score, recall_score\n",
    "from sklearn.metrics import roc_curve\n",
    "from sklearn.metrics import roc_auc_score\n",
    "from sklearn.model_selection import StratifiedShuffleSplit as s_split\n",
    "import tensorflow as tf\n",
    "from keras.models import Model, Sequential\n",
    "from keras.layers import Dense, Activation, Input, Dense, Conv2D, MaxPooling2D\n",
    "from keras.layers import Dropout, UpSampling2D, Flatten, Reshape, Convolution2D\n",
    "from keras.layers import SeparableConv2D, BatchNormalization, LSTM\n",
    "from keras.layers import Average, Concatenate, LeakyReLU, Add, ELU, PReLU, ReLU\n",
    "from keras.constraints import maxnorm\n",
    "from keras.optimizers import SGD , RMSprop, Adam\n",
    "from keras.callbacks import EarlyStopping\n",
    "from keras.preprocessing.image import ImageDataGenerator\n",
    "from keras.callbacks import ReduceLROnPlateau , ModelCheckpoint\n",
    "from keras.utils import np_utils\n",
    "from keras.utils.np_utils import to_categorical\n",
    "from keras import backend as BE\n",
    "from keras.applications.vgg16 import VGG16, preprocess_input, decode_predictions\n",
    "from keras.preprocessing.image import img_to_array, array_to_img\n",
    "from keras.applications.resnet50 import ResNet50\n",
    "from keras.layers import GlobalAveragePooling2D\n",
    "from keras.models import Model\n",
    "from keras.layers.embeddings import Embedding\n",
    "from sklearn.model_selection import train_test_split\n",
    "import numpy as np\n",
    "import pandas as pd\n",
    "from sklearn.metrics import roc_curve, auc\n",
    "from keras.layers import Lambda, Convolution1D,concatenate\n",
    "from keras.preprocessing.text import Tokenizer\n",
    "from nltk.corpus import stopwords\n",
    "from keras import regularizers\n",
    "from keras.optimizers import SGD, Adam, RMSprop\n",
    "from keras import regularizers\n",
    "# Import Fashion MNIST dataset\n",
    "from keras.datasets import fashion_mnist\n",
    "\n",
    "np.random.seed(42)"
   ]
  },
  {
   "cell_type": "code",
   "execution_count": 12,
   "metadata": {
    "colab": {
     "base_uri": "https://localhost:8080/",
     "height": 34
    },
    "colab_type": "code",
    "id": "BsyiUw0zvvTM",
    "outputId": "f63b3b46-550a-45ce-d83d-ec62b6fb1bf9"
   },
   "outputs": [
    {
     "data": {
      "text/plain": [
       "((60000, 28, 28, 1), (10000, 28, 28, 1))"
      ]
     },
     "execution_count": 12,
     "metadata": {
      "tags": []
     },
     "output_type": "execute_result"
    }
   ],
   "source": [
    "(x_train, _), (x_test, _) = fashion_mnist.load_data()\n",
    "\n",
    "# Scales the training and test data to range between 0 and 1.\n",
    "max_value = float(x_train.max())\n",
    "x_train = x_train.astype('float32') / max_value\n",
    "x_test = x_test.astype('float32') / max_value\n",
    "\n",
    "x_train = x_train.reshape((len(x_train), np.prod(x_train.shape[1:])))\n",
    "x_test = x_test.reshape((len(x_test), np.prod(x_test.shape[1:])))\n",
    "\n",
    "x_train = x_train.reshape((len(x_train), 28, 28, 1))\n",
    "x_test = x_test.reshape((len(x_test), 28, 28, 1))\n",
    "\n",
    "(x_train.shape, x_test.shape)"
   ]
  },
  {
   "cell_type": "code",
   "execution_count": 0,
   "metadata": {
    "colab": {
     "base_uri": "https://localhost:8080/",
     "height": 605
    },
    "colab_type": "code",
    "id": "tfLfgyDNvvTT",
    "outputId": "c2685157-9a76-4930-efa4-b788bc749f01"
   },
   "outputs": [
    {
     "name": "stdout",
     "output_type": "stream",
     "text": [
      "_________________________________________________________________\n",
      "Layer (type)                 Output Shape              Param #   \n",
      "=================================================================\n",
      "conv2d_1 (Conv2D)            (None, 28, 28, 16)        160       \n",
      "_________________________________________________________________\n",
      "max_pooling2d_1 (MaxPooling2 (None, 14, 14, 16)        0         \n",
      "_________________________________________________________________\n",
      "conv2d_2 (Conv2D)            (None, 14, 14, 8)         1160      \n",
      "_________________________________________________________________\n",
      "max_pooling2d_2 (MaxPooling2 (None, 7, 7, 8)           0         \n",
      "_________________________________________________________________\n",
      "conv2d_3 (Conv2D)            (None, 4, 4, 8)           584       \n",
      "_________________________________________________________________\n",
      "flatten_1 (Flatten)          (None, 128)               0         \n",
      "_________________________________________________________________\n",
      "reshape_1 (Reshape)          (None, 4, 4, 8)           0         \n",
      "_________________________________________________________________\n",
      "conv2d_4 (Conv2D)            (None, 4, 4, 8)           584       \n",
      "_________________________________________________________________\n",
      "up_sampling2d_1 (UpSampling2 (None, 8, 8, 8)           0         \n",
      "_________________________________________________________________\n",
      "conv2d_5 (Conv2D)            (None, 8, 8, 8)           584       \n",
      "_________________________________________________________________\n",
      "up_sampling2d_2 (UpSampling2 (None, 16, 16, 8)         0         \n",
      "_________________________________________________________________\n",
      "conv2d_6 (Conv2D)            (None, 14, 14, 16)        1168      \n",
      "_________________________________________________________________\n",
      "up_sampling2d_3 (UpSampling2 (None, 28, 28, 16)        0         \n",
      "_________________________________________________________________\n",
      "conv2d_7 (Conv2D)            (None, 28, 28, 1)         145       \n",
      "=================================================================\n",
      "Total params: 4,385\n",
      "Trainable params: 4,385\n",
      "Non-trainable params: 0\n",
      "_________________________________________________________________\n"
     ]
    }
   ],
   "source": [
    "autoencoder = Sequential()\n",
    "\n",
    "# Encoder Layers\n",
    "autoencoder.add(Conv2D(16, (3, 3), activation='relu', padding='same', input_shape=x_train.shape[1:]))\n",
    "autoencoder.add(MaxPooling2D((2, 2), padding='same'))\n",
    "autoencoder.add(Conv2D(8, (3, 3), activation='relu', padding='same'))\n",
    "autoencoder.add(MaxPooling2D((2, 2), padding='same'))\n",
    "autoencoder.add(Conv2D(8, (3, 3), strides=(2,2), activation='relu', padding='same'))\n",
    "\n",
    "# Flatten encoding for visualization\n",
    "autoencoder.add(Flatten())\n",
    "autoencoder.add(Reshape((4, 4, 8)))\n",
    "\n",
    "# Decoder Layers\n",
    "autoencoder.add(Conv2D(8, (3, 3), activation='relu', padding='same'))\n",
    "autoencoder.add(UpSampling2D((2, 2)))\n",
    "autoencoder.add(Conv2D(8, (3, 3), activation='relu', padding='same'))\n",
    "autoencoder.add(UpSampling2D((2, 2)))\n",
    "autoencoder.add(Conv2D(16, (3, 3), activation='relu'))\n",
    "autoencoder.add(UpSampling2D((2, 2)))\n",
    "autoencoder.add(Conv2D(1, (3, 3), activation='sigmoid', padding='same'))\n",
    "\n",
    "autoencoder.summary()"
   ]
  },
  {
   "cell_type": "code",
   "execution_count": 0,
   "metadata": {
    "colab": {
     "base_uri": "https://localhost:8080/",
     "height": 370
    },
    "colab_type": "code",
    "id": "R6C4owv8vvTZ",
    "outputId": "fc0eb504-9432-4080-fd13-812264331b6a"
   },
   "outputs": [
    {
     "name": "stdout",
     "output_type": "stream",
     "text": [
      "_________________________________________________________________\n",
      "Layer (type)                 Output Shape              Param #   \n",
      "=================================================================\n",
      "conv2d_1_input (InputLayer)  (None, 28, 28, 1)         0         \n",
      "_________________________________________________________________\n",
      "conv2d_1 (Conv2D)            (None, 28, 28, 16)        160       \n",
      "_________________________________________________________________\n",
      "max_pooling2d_1 (MaxPooling2 (None, 14, 14, 16)        0         \n",
      "_________________________________________________________________\n",
      "conv2d_2 (Conv2D)            (None, 14, 14, 8)         1160      \n",
      "_________________________________________________________________\n",
      "max_pooling2d_2 (MaxPooling2 (None, 7, 7, 8)           0         \n",
      "_________________________________________________________________\n",
      "conv2d_3 (Conv2D)            (None, 4, 4, 8)           584       \n",
      "_________________________________________________________________\n",
      "flatten_1 (Flatten)          (None, 128)               0         \n",
      "=================================================================\n",
      "Total params: 1,904\n",
      "Trainable params: 1,904\n",
      "Non-trainable params: 0\n",
      "_________________________________________________________________\n"
     ]
    }
   ],
   "source": [
    "encoder = Model(\n",
    "    inputs=autoencoder.input, \n",
    "    outputs=autoencoder.get_layer('flatten_1').output)\n",
    "encoder.summary()"
   ]
  },
  {
   "cell_type": "code",
   "execution_count": 0,
   "metadata": {
    "colab": {
     "base_uri": "https://localhost:8080/",
     "height": 3410
    },
    "colab_type": "code",
    "id": "hftWwaX-vvTd",
    "outputId": "17331e79-efa1-4cc1-c9e5-364755765d06"
   },
   "outputs": [
    {
     "name": "stdout",
     "output_type": "stream",
     "text": [
      "Train on 60000 samples, validate on 10000 samples\n",
      "Epoch 1/100\n",
      "60000/60000 [==============================] - 9s 150us/step - loss: 0.3566 - val_loss: 0.3071\n",
      "Epoch 2/100\n",
      "60000/60000 [==============================] - 7s 117us/step - loss: 0.3003 - val_loss: 0.2984\n",
      "Epoch 3/100\n",
      "60000/60000 [==============================] - 7s 116us/step - loss: 0.2946 - val_loss: 0.2948\n",
      "Epoch 4/100\n",
      "60000/60000 [==============================] - 7s 115us/step - loss: 0.2915 - val_loss: 0.2921\n",
      "Epoch 5/100\n",
      "60000/60000 [==============================] - 7s 114us/step - loss: 0.2892 - val_loss: 0.2903\n",
      "Epoch 6/100\n",
      "60000/60000 [==============================] - 7s 114us/step - loss: 0.2874 - val_loss: 0.2885\n",
      "Epoch 7/100\n",
      "60000/60000 [==============================] - 7s 114us/step - loss: 0.2858 - val_loss: 0.2874\n",
      "Epoch 8/100\n",
      "60000/60000 [==============================] - 7s 114us/step - loss: 0.2844 - val_loss: 0.2858\n",
      "Epoch 9/100\n",
      "60000/60000 [==============================] - 7s 114us/step - loss: 0.2833 - val_loss: 0.2851\n",
      "Epoch 10/100\n",
      "60000/60000 [==============================] - 7s 114us/step - loss: 0.2823 - val_loss: 0.2838\n",
      "Epoch 11/100\n",
      "60000/60000 [==============================] - 7s 114us/step - loss: 0.2814 - val_loss: 0.2831\n",
      "Epoch 12/100\n",
      "60000/60000 [==============================] - 7s 114us/step - loss: 0.2807 - val_loss: 0.2823\n",
      "Epoch 13/100\n",
      "60000/60000 [==============================] - 7s 114us/step - loss: 0.2800 - val_loss: 0.2816\n",
      "Epoch 14/100\n",
      "60000/60000 [==============================] - 7s 113us/step - loss: 0.2793 - val_loss: 0.2810\n",
      "Epoch 15/100\n",
      "60000/60000 [==============================] - 7s 113us/step - loss: 0.2787 - val_loss: 0.2805\n",
      "Epoch 16/100\n",
      "60000/60000 [==============================] - 7s 114us/step - loss: 0.2783 - val_loss: 0.2815\n",
      "Epoch 17/100\n",
      "60000/60000 [==============================] - 7s 114us/step - loss: 0.2777 - val_loss: 0.2796\n",
      "Epoch 18/100\n",
      "60000/60000 [==============================] - 7s 114us/step - loss: 0.2773 - val_loss: 0.2790\n",
      "Epoch 19/100\n",
      "60000/60000 [==============================] - 7s 114us/step - loss: 0.2769 - val_loss: 0.2790\n",
      "Epoch 20/100\n",
      "60000/60000 [==============================] - 7s 113us/step - loss: 0.2766 - val_loss: 0.2784\n",
      "Epoch 21/100\n",
      "60000/60000 [==============================] - 7s 114us/step - loss: 0.2762 - val_loss: 0.2781\n",
      "Epoch 22/100\n",
      "60000/60000 [==============================] - 7s 112us/step - loss: 0.2760 - val_loss: 0.2777\n",
      "Epoch 23/100\n",
      "60000/60000 [==============================] - 7s 112us/step - loss: 0.2757 - val_loss: 0.2777\n",
      "Epoch 24/100\n",
      "60000/60000 [==============================] - 7s 113us/step - loss: 0.2754 - val_loss: 0.2778\n",
      "Epoch 25/100\n",
      "60000/60000 [==============================] - 7s 113us/step - loss: 0.2752 - val_loss: 0.2772\n",
      "Epoch 26/100\n",
      "60000/60000 [==============================] - 7s 113us/step - loss: 0.2750 - val_loss: 0.2769\n",
      "Epoch 27/100\n",
      "60000/60000 [==============================] - 7s 112us/step - loss: 0.2748 - val_loss: 0.2766\n",
      "Epoch 28/100\n",
      "60000/60000 [==============================] - 7s 114us/step - loss: 0.2746 - val_loss: 0.2766\n",
      "Epoch 29/100\n",
      "60000/60000 [==============================] - 7s 113us/step - loss: 0.2744 - val_loss: 0.2764\n",
      "Epoch 30/100\n",
      "60000/60000 [==============================] - 7s 113us/step - loss: 0.2742 - val_loss: 0.2765\n",
      "Epoch 31/100\n",
      "60000/60000 [==============================] - 7s 114us/step - loss: 0.2740 - val_loss: 0.2759\n",
      "Epoch 32/100\n",
      "60000/60000 [==============================] - 7s 113us/step - loss: 0.2738 - val_loss: 0.2758\n",
      "Epoch 33/100\n",
      "60000/60000 [==============================] - 7s 113us/step - loss: 0.2736 - val_loss: 0.2757\n",
      "Epoch 34/100\n",
      "60000/60000 [==============================] - 7s 114us/step - loss: 0.2735 - val_loss: 0.2753\n",
      "Epoch 35/100\n",
      "60000/60000 [==============================] - 7s 114us/step - loss: 0.2733 - val_loss: 0.2752\n",
      "Epoch 36/100\n",
      "60000/60000 [==============================] - 7s 114us/step - loss: 0.2731 - val_loss: 0.2751\n",
      "Epoch 37/100\n",
      "60000/60000 [==============================] - 7s 113us/step - loss: 0.2730 - val_loss: 0.2749\n",
      "Epoch 38/100\n",
      "60000/60000 [==============================] - 7s 112us/step - loss: 0.2729 - val_loss: 0.2748\n",
      "Epoch 39/100\n",
      "60000/60000 [==============================] - 7s 113us/step - loss: 0.2727 - val_loss: 0.2746\n",
      "Epoch 40/100\n",
      "60000/60000 [==============================] - 7s 114us/step - loss: 0.2726 - val_loss: 0.2745\n",
      "Epoch 41/100\n",
      "60000/60000 [==============================] - 7s 112us/step - loss: 0.2725 - val_loss: 0.2744\n",
      "Epoch 42/100\n",
      "60000/60000 [==============================] - 7s 112us/step - loss: 0.2724 - val_loss: 0.2743\n",
      "Epoch 43/100\n",
      "60000/60000 [==============================] - 7s 113us/step - loss: 0.2723 - val_loss: 0.2744\n",
      "Epoch 44/100\n",
      "60000/60000 [==============================] - 7s 113us/step - loss: 0.2722 - val_loss: 0.2741\n",
      "Epoch 45/100\n",
      "60000/60000 [==============================] - 7s 114us/step - loss: 0.2721 - val_loss: 0.2740\n",
      "Epoch 46/100\n",
      "60000/60000 [==============================] - 7s 115us/step - loss: 0.2720 - val_loss: 0.2740\n",
      "Epoch 47/100\n",
      "60000/60000 [==============================] - 7s 114us/step - loss: 0.2718 - val_loss: 0.2740\n",
      "Epoch 48/100\n",
      "60000/60000 [==============================] - 7s 113us/step - loss: 0.2718 - val_loss: 0.2738\n",
      "Epoch 49/100\n",
      "60000/60000 [==============================] - 7s 113us/step - loss: 0.2717 - val_loss: 0.2737\n",
      "Epoch 50/100\n",
      "60000/60000 [==============================] - 7s 112us/step - loss: 0.2716 - val_loss: 0.2737\n",
      "Epoch 51/100\n",
      "60000/60000 [==============================] - 7s 113us/step - loss: 0.2715 - val_loss: 0.2736\n",
      "Epoch 52/100\n",
      "60000/60000 [==============================] - 7s 111us/step - loss: 0.2715 - val_loss: 0.2735\n",
      "Epoch 53/100\n",
      "60000/60000 [==============================] - 7s 112us/step - loss: 0.2714 - val_loss: 0.2734\n",
      "Epoch 54/100\n",
      "60000/60000 [==============================] - 7s 112us/step - loss: 0.2713 - val_loss: 0.2736\n",
      "Epoch 55/100\n",
      "60000/60000 [==============================] - 7s 111us/step - loss: 0.2713 - val_loss: 0.2736\n",
      "Epoch 56/100\n",
      "60000/60000 [==============================] - 7s 110us/step - loss: 0.2712 - val_loss: 0.2733\n",
      "Epoch 57/100\n",
      "60000/60000 [==============================] - 7s 111us/step - loss: 0.2712 - val_loss: 0.2731\n",
      "Epoch 58/100\n",
      "60000/60000 [==============================] - 7s 111us/step - loss: 0.2711 - val_loss: 0.2731\n",
      "Epoch 59/100\n",
      "60000/60000 [==============================] - 7s 111us/step - loss: 0.2711 - val_loss: 0.2729\n",
      "Epoch 60/100\n",
      "60000/60000 [==============================] - 7s 111us/step - loss: 0.2709 - val_loss: 0.2729\n",
      "Epoch 61/100\n",
      "60000/60000 [==============================] - 7s 111us/step - loss: 0.2709 - val_loss: 0.2733\n",
      "Epoch 62/100\n",
      "60000/60000 [==============================] - 7s 111us/step - loss: 0.2708 - val_loss: 0.2728\n",
      "Epoch 63/100\n",
      "60000/60000 [==============================] - 7s 113us/step - loss: 0.2708 - val_loss: 0.2733\n",
      "Epoch 64/100\n",
      "60000/60000 [==============================] - 7s 111us/step - loss: 0.2708 - val_loss: 0.2728\n",
      "Epoch 65/100\n",
      "60000/60000 [==============================] - 7s 113us/step - loss: 0.2707 - val_loss: 0.2726\n",
      "Epoch 66/100\n",
      "60000/60000 [==============================] - 7s 113us/step - loss: 0.2707 - val_loss: 0.2726\n",
      "Epoch 67/100\n",
      "60000/60000 [==============================] - 7s 112us/step - loss: 0.2706 - val_loss: 0.2725\n",
      "Epoch 68/100\n",
      "60000/60000 [==============================] - 7s 112us/step - loss: 0.2706 - val_loss: 0.2726\n",
      "Epoch 69/100\n",
      "60000/60000 [==============================] - 7s 112us/step - loss: 0.2705 - val_loss: 0.2730\n",
      "Epoch 70/100\n",
      "60000/60000 [==============================] - 7s 112us/step - loss: 0.2704 - val_loss: 0.2727\n",
      "Epoch 71/100\n",
      "60000/60000 [==============================] - 7s 112us/step - loss: 0.2704 - val_loss: 0.2723\n",
      "Epoch 72/100\n",
      "60000/60000 [==============================] - 7s 112us/step - loss: 0.2704 - val_loss: 0.2725\n",
      "Epoch 73/100\n",
      "60000/60000 [==============================] - 7s 112us/step - loss: 0.2703 - val_loss: 0.2723\n",
      "Epoch 74/100\n",
      "60000/60000 [==============================] - 7s 112us/step - loss: 0.2703 - val_loss: 0.2729\n",
      "Epoch 75/100\n",
      "60000/60000 [==============================] - 7s 112us/step - loss: 0.2702 - val_loss: 0.2724\n",
      "Epoch 76/100\n",
      "60000/60000 [==============================] - 7s 112us/step - loss: 0.2702 - val_loss: 0.2723\n",
      "Epoch 77/100\n",
      "60000/60000 [==============================] - 7s 111us/step - loss: 0.2701 - val_loss: 0.2721\n",
      "Epoch 78/100\n",
      "60000/60000 [==============================] - 7s 111us/step - loss: 0.2701 - val_loss: 0.2721\n",
      "Epoch 79/100\n",
      "60000/60000 [==============================] - 7s 112us/step - loss: 0.2701 - val_loss: 0.2723\n",
      "Epoch 80/100\n",
      "60000/60000 [==============================] - 7s 111us/step - loss: 0.2700 - val_loss: 0.2719\n",
      "Epoch 81/100\n",
      "60000/60000 [==============================] - 7s 111us/step - loss: 0.2700 - val_loss: 0.2722\n",
      "Epoch 82/100\n",
      "60000/60000 [==============================] - 7s 111us/step - loss: 0.2699 - val_loss: 0.2720\n",
      "Epoch 83/100\n",
      "60000/60000 [==============================] - 7s 112us/step - loss: 0.2699 - val_loss: 0.2718\n",
      "Epoch 84/100\n",
      "60000/60000 [==============================] - 7s 113us/step - loss: 0.2699 - val_loss: 0.2719\n",
      "Epoch 85/100\n",
      "60000/60000 [==============================] - 7s 113us/step - loss: 0.2698 - val_loss: 0.2730\n",
      "Epoch 86/100\n",
      "60000/60000 [==============================] - 7s 112us/step - loss: 0.2698 - val_loss: 0.2719\n",
      "Epoch 87/100\n",
      "60000/60000 [==============================] - 7s 111us/step - loss: 0.2697 - val_loss: 0.2716\n",
      "Epoch 88/100\n",
      "60000/60000 [==============================] - 7s 112us/step - loss: 0.2697 - val_loss: 0.2716\n",
      "Epoch 89/100\n",
      "60000/60000 [==============================] - 7s 112us/step - loss: 0.2696 - val_loss: 0.2722\n",
      "Epoch 90/100\n",
      "60000/60000 [==============================] - 7s 112us/step - loss: 0.2696 - val_loss: 0.2724\n",
      "Epoch 91/100\n",
      "60000/60000 [==============================] - 7s 111us/step - loss: 0.2696 - val_loss: 0.2717\n",
      "Epoch 92/100\n",
      "60000/60000 [==============================] - 7s 112us/step - loss: 0.2695 - val_loss: 0.2716\n",
      "Epoch 93/100\n",
      "60000/60000 [==============================] - 7s 112us/step - loss: 0.2695 - val_loss: 0.2715\n",
      "Epoch 94/100\n",
      "60000/60000 [==============================] - 7s 113us/step - loss: 0.2694 - val_loss: 0.2716\n",
      "Epoch 95/100\n",
      "60000/60000 [==============================] - 7s 112us/step - loss: 0.2694 - val_loss: 0.2714\n",
      "Epoch 96/100\n",
      "60000/60000 [==============================] - 7s 111us/step - loss: 0.2694 - val_loss: 0.2723\n",
      "Epoch 97/100\n",
      "60000/60000 [==============================] - 7s 112us/step - loss: 0.2694 - val_loss: 0.2713\n",
      "Epoch 98/100\n",
      "60000/60000 [==============================] - 7s 112us/step - loss: 0.2693 - val_loss: 0.2717\n",
      "Epoch 99/100\n",
      "60000/60000 [==============================] - 7s 115us/step - loss: 0.2692 - val_loss: 0.2713\n",
      "Epoch 100/100\n",
      "60000/60000 [==============================] - 7s 113us/step - loss: 0.2692 - val_loss: 0.2725\n"
     ]
    },
    {
     "data": {
      "text/plain": [
       "<keras.callbacks.History at 0x7efcc9b650f0>"
      ]
     },
     "execution_count": 6,
     "metadata": {
      "tags": []
     },
     "output_type": "execute_result"
    }
   ],
   "source": [
    "autoencoder.compile(optimizer='adam', loss='binary_crossentropy')\n",
    "autoencoder.fit(x_train, x_train,\n",
    "                epochs=100,\n",
    "                batch_size=128,\n",
    "                validation_data=(x_test, x_test))"
   ]
  },
  {
   "cell_type": "code",
   "execution_count": 0,
   "metadata": {
    "colab": {
     "base_uri": "https://localhost:8080/",
     "height": 248
    },
    "colab_type": "code",
    "id": "ZLfL-vhZvvTi",
    "outputId": "988a1464-862a-4e61-a879-38d8c191a2ec"
   },
   "outputs": [
    {
     "data": {
      "image/png": "[encoded data removed]",
      "text/plain": [
       "<matplotlib.figure.Figure at 0x7efcc9b4dd30>"
      ]
     },
     "metadata": {
      "tags": []
     },
     "output_type": "display_data"
    }
   ],
   "source": [
    "num_images = 10\n",
    "np.random.seed(42)\n",
    "random_test_images = np.random.randint(x_test.shape[0], size=num_images)\n",
    "\n",
    "encoded_imgs = encoder.predict(x_test)\n",
    "decoded_imgs = autoencoder.predict(x_test)\n",
    "\n",
    "plt.figure(figsize=(18, 4))\n",
    "\n",
    "for i, image_idx in enumerate(random_test_images):\n",
    "    # plot original image\n",
    "    ax = plt.subplot(3, num_images, i + 1)\n",
    "    plt.imshow(x_test[image_idx].reshape(28, 28))\n",
    "    plt.gray()\n",
    "    ax.get_xaxis().set_visible(False)\n",
    "    ax.get_yaxis().set_visible(False)\n",
    "    \n",
    "    # plot encoded image\n",
    "    ax = plt.subplot(3, num_images, num_images + i + 1)\n",
    "    plt.imshow(encoded_imgs[image_idx].reshape(16, 8))\n",
    "    plt.gray()\n",
    "    ax.get_xaxis().set_visible(False)\n",
    "    ax.get_yaxis().set_visible(False)\n",
    "\n",
    "    # plot reconstructed image\n",
    "    ax = plt.subplot(3, num_images, 2*num_images + i + 1)\n",
    "    plt.imshow(decoded_imgs[image_idx].reshape(28, 28))\n",
    "    plt.gray()\n",
    "    ax.get_xaxis().set_visible(False)\n",
    "    ax.get_yaxis().set_visible(False)\n",
    "plt.show()"
   ]
  },
  {
   "cell_type": "markdown",
   "metadata": {
    "colab_type": "text",
    "id": "Q6NErcTNvvTm"
   },
   "source": [
    "# 2.\n",
    "## 2.1"
   ]
  },
  {
   "cell_type": "code",
   "execution_count": 29,
   "metadata": {
    "colab": {
     "base_uri": "https://localhost:8080/",
     "height": 34
    },
    "colab_type": "code",
    "id": "gtEyYCCMvvTo",
    "outputId": "827ea492-8b04-4695-9188-8a607d883497"
   },
   "outputs": [
    {
     "name": "stderr",
     "output_type": "stream",
     "text": [
      "UsageError: unrecognized arguments: # Only use this if using iPython\n"
     ]
    }
   ],
   "source": [
    "import matplotlib.pyplot as plt\n",
    "\n",
    "(x_train, y_train), (x_test, y_test) = fashion_mnist.load_data()\n",
    "\n",
    "%matplotlib inline # Only use this if using iPython\n",
    "image_index = 7777 # You may select anything up to 60,000\n",
    "print(y_train[image_index]) # The label is 8\n",
    "plt.imshow(x_train[image_index], cmap='Greys')"
   ]
  },
  {
   "cell_type": "code",
   "execution_count": 0,
   "metadata": {
    "colab": {
     "base_uri": "https://localhost:8080/",
     "height": 34
    },
    "colab_type": "code",
    "id": "8Ka5YRosvvTs",
    "outputId": "b80c1b48-f6be-40f0-8924-e7c9f08a042b"
   },
   "outputs": [
    {
     "data": {
      "text/plain": [
       "(60000, 28, 28)"
      ]
     },
     "execution_count": 4,
     "metadata": {
      "tags": []
     },
     "output_type": "execute_result"
    }
   ],
   "source": [
    "x_train.shape"
   ]
  },
  {
   "cell_type": "code",
   "execution_count": 30,
   "metadata": {
    "colab": {
     "base_uri": "https://localhost:8080/",
     "height": 67
    },
    "colab_type": "code",
    "id": "Sid_WdgWvvTx",
    "outputId": "6122150a-e375-41a1-8e7e-0d31ce22cb16"
   },
   "outputs": [
    {
     "name": "stdout",
     "output_type": "stream",
     "text": [
      "x_train shape: (60000, 28, 28, 1)\n",
      "Number of images in x_train 60000\n",
      "Number of images in x_test 10000\n"
     ]
    }
   ],
   "source": [
    "# Reshaping the array to 4-dims so that it can work with the Keras API\n",
    "x_train = x_train.reshape(x_train.shape[0], 28, 28, 1)\n",
    "x_test = x_test.reshape(x_test.shape[0], 28, 28, 1)\n",
    "input_shape = (28, 28, 1)\n",
    "# Making sure that the values are float so that we can get decimal points after division\n",
    "x_train = x_train.astype('float32')\n",
    "x_test = x_test.astype('float32')\n",
    "\n",
    "# Normalizing the RGB codes by dividing it to the max RGB value.\n",
    "x_train /= 255\n",
    "x_test /= 255\n",
    "print('x_train shape:', x_train.shape)\n",
    "print('Number of images in x_train', x_train.shape[0])\n",
    "print('Number of images in x_test', x_test.shape[0])"
   ]
  },
  {
   "cell_type": "code",
   "execution_count": 0,
   "metadata": {
    "colab": {
     "base_uri": "https://localhost:8080/",
     "height": 336
    },
    "colab_type": "code",
    "id": "qDhSMVu-vvT2",
    "outputId": "df5b4961-f3cf-4a36-b59b-6c0db94408d6"
   },
   "outputs": [
    {
     "name": "stdout",
     "output_type": "stream",
     "text": [
      "_________________________________________________________________\n",
      "Layer (type)                 Output Shape              Param #   \n",
      "=================================================================\n",
      "conv2d_2 (Conv2D)            (None, 26, 26, 28)        280       \n",
      "_________________________________________________________________\n",
      "max_pooling2d_2 (MaxPooling2 (None, 13, 13, 28)        0         \n",
      "_________________________________________________________________\n",
      "flatten_2 (Flatten)          (None, 4732)              0         \n",
      "_________________________________________________________________\n",
      "dense_3 (Dense)              (None, 128)               605824    \n",
      "_________________________________________________________________\n",
      "dropout_2 (Dropout)          (None, 128)               0         \n",
      "_________________________________________________________________\n",
      "dense_4 (Dense)              (None, 10)                1290      \n",
      "=================================================================\n",
      "Total params: 607,394\n",
      "Trainable params: 607,394\n",
      "Non-trainable params: 0\n",
      "_________________________________________________________________\n"
     ]
    }
   ],
   "source": [
    "# Importing the required Keras modules containing model and layers\n",
    "\n",
    "\n",
    "# Creating a Sequential Model and adding the layers\n",
    "model = Sequential()\n",
    "model.add(Conv2D(28, kernel_size=(3,3), input_shape=input_shape))\n",
    "model.add(MaxPooling2D(pool_size=(2, 2)))\n",
    "model.add(Flatten())\n",
    "model.add(Dense(128, activation='relu'))\n",
    "model.add(Dropout(0.2))\n",
    "model.add(Dense(10,activation='softmax'))\n",
    "\n",
    "model.summary()"
   ]
  },
  {
   "cell_type": "code",
   "execution_count": 0,
   "metadata": {
    "colab": {
     "base_uri": "https://localhost:8080/",
     "height": 1714
    },
    "colab_type": "code",
    "id": "xz3vXk7MvvT6",
    "outputId": "aaaf5d67-0d8c-458a-baf0-86d6fc80c3a2"
   },
   "outputs": [
    {
     "name": "stdout",
     "output_type": "stream",
     "text": [
      "Epoch 1/50\n",
      "60000/60000 [==============================] - 27s 455us/step - loss: 0.4201 - acc: 0.8508\n",
      "Epoch 2/50\n",
      "60000/60000 [==============================] - 23s 391us/step - loss: 0.2848 - acc: 0.8963\n",
      "Epoch 3/50\n",
      "60000/60000 [==============================] - 28s 468us/step - loss: 0.2393 - acc: 0.9120\n",
      "Epoch 4/50\n",
      "60000/60000 [==============================] - 24s 392us/step - loss: 0.2101 - acc: 0.9216\n",
      "Epoch 5/50\n",
      "60000/60000 [==============================] - 24s 398us/step - loss: 0.1863 - acc: 0.9311\n",
      "Epoch 6/50\n",
      "60000/60000 [==============================] - 24s 393us/step - loss: 0.1646 - acc: 0.9398\n",
      "Epoch 7/50\n",
      "60000/60000 [==============================] - 29s 479us/step - loss: 0.1478 - acc: 0.9449\n",
      "Epoch 8/50\n",
      "60000/60000 [==============================] - 24s 402us/step - loss: 0.1336 - acc: 0.9507\n",
      "Epoch 9/50\n",
      "60000/60000 [==============================] - 24s 392us/step - loss: 0.1212 - acc: 0.9547\n",
      "Epoch 10/50\n",
      "60000/60000 [==============================] - 25s 412us/step - loss: 0.1113 - acc: 0.9585\n",
      "Epoch 11/50\n",
      "60000/60000 [==============================] - 24s 396us/step - loss: 0.1032 - acc: 0.9613\n",
      "Epoch 12/50\n",
      "60000/60000 [==============================] - 29s 483us/step - loss: 0.0949 - acc: 0.9647\n",
      "Epoch 13/50\n",
      "60000/60000 [==============================] - 23s 390us/step - loss: 0.0885 - acc: 0.9670\n",
      "Epoch 14/50\n",
      "60000/60000 [==============================] - 24s 404us/step - loss: 0.0831 - acc: 0.9686\n",
      "Epoch 15/50\n",
      "60000/60000 [==============================] - 25s 409us/step - loss: 0.0789 - acc: 0.9704\n",
      "Epoch 16/50\n",
      "60000/60000 [==============================] - 28s 471us/step - loss: 0.0713 - acc: 0.9732\n",
      "Epoch 17/50\n",
      "60000/60000 [==============================] - 24s 404us/step - loss: 0.0695 - acc: 0.9742\n",
      "Epoch 18/50\n",
      "60000/60000 [==============================] - 24s 397us/step - loss: 0.0657 - acc: 0.9748\n",
      "Epoch 19/50\n",
      "60000/60000 [==============================] - 24s 394us/step - loss: 0.0631 - acc: 0.9765\n",
      "Epoch 20/50\n",
      "60000/60000 [==============================] - 24s 400us/step - loss: 0.0627 - acc: 0.9774\n",
      "Epoch 21/50\n",
      "60000/60000 [==============================] - 29s 478us/step - loss: 0.0556 - acc: 0.9796\n",
      "Epoch 22/50\n",
      "60000/60000 [==============================] - 23s 387us/step - loss: 0.0566 - acc: 0.9793\n",
      "Epoch 23/50\n",
      "60000/60000 [==============================] - 24s 405us/step - loss: 0.0537 - acc: 0.9804\n",
      "Epoch 24/50\n",
      "60000/60000 [==============================] - 24s 402us/step - loss: 0.0534 - acc: 0.9805\n",
      "Epoch 25/50\n",
      "60000/60000 [==============================] - 29s 478us/step - loss: 0.0506 - acc: 0.9810\n",
      "Epoch 26/50\n",
      "60000/60000 [==============================] - 24s 401us/step - loss: 0.0501 - acc: 0.9816\n",
      "Epoch 27/50\n",
      "60000/60000 [==============================] - 24s 401us/step - loss: 0.0490 - acc: 0.9819\n",
      "Epoch 28/50\n",
      "60000/60000 [==============================] - 24s 399us/step - loss: 0.0476 - acc: 0.9830\n",
      "Epoch 29/50\n",
      "60000/60000 [==============================] - 25s 410us/step - loss: 0.0462 - acc: 0.9830\n",
      "Epoch 30/50\n",
      "60000/60000 [==============================] - 28s 472us/step - loss: 0.0478 - acc: 0.9828\n",
      "Epoch 31/50\n",
      "60000/60000 [==============================] - 24s 400us/step - loss: 0.0418 - acc: 0.9852\n",
      "Epoch 32/50\n",
      "60000/60000 [==============================] - 24s 397us/step - loss: 0.0430 - acc: 0.9844\n",
      "Epoch 33/50\n",
      "60000/60000 [==============================] - 24s 401us/step - loss: 0.0384 - acc: 0.9861\n",
      "Epoch 34/50\n",
      "60000/60000 [==============================] - 29s 479us/step - loss: 0.0392 - acc: 0.9857\n",
      "Epoch 35/50\n",
      "60000/60000 [==============================] - 24s 397us/step - loss: 0.0401 - acc: 0.9856\n",
      "Epoch 36/50\n",
      "60000/60000 [==============================] - 24s 397us/step - loss: 0.0407 - acc: 0.9858\n",
      "Epoch 37/50\n",
      "60000/60000 [==============================] - 24s 400us/step - loss: 0.0369 - acc: 0.9868\n",
      "Epoch 38/50\n",
      "60000/60000 [==============================] - 26s 436us/step - loss: 0.0376 - acc: 0.9870\n",
      "Epoch 39/50\n",
      "60000/60000 [==============================] - 26s 433us/step - loss: 0.0366 - acc: 0.9871\n",
      "Epoch 40/50\n",
      "60000/60000 [==============================] - 24s 408us/step - loss: 0.0377 - acc: 0.9869\n",
      "Epoch 41/50\n",
      "60000/60000 [==============================] - 24s 406us/step - loss: 0.0379 - acc: 0.9876\n",
      "Epoch 42/50\n",
      "60000/60000 [==============================] - 25s 408us/step - loss: 0.0344 - acc: 0.9882\n",
      "Epoch 43/50\n",
      "60000/60000 [==============================] - 29s 485us/step - loss: 0.0359 - acc: 0.9878\n",
      "Epoch 44/50\n",
      "60000/60000 [==============================] - 24s 397us/step - loss: 0.0357 - acc: 0.9876\n",
      "Epoch 45/50\n",
      "60000/60000 [==============================] - 25s 413us/step - loss: 0.0349 - acc: 0.9878\n",
      "Epoch 46/50\n",
      "60000/60000 [==============================] - 24s 394us/step - loss: 0.0347 - acc: 0.9880\n",
      "Epoch 47/50\n",
      "60000/60000 [==============================] - 28s 474us/step - loss: 0.0329 - acc: 0.9887\n",
      "Epoch 48/50\n",
      "60000/60000 [==============================] - 24s 398us/step - loss: 0.0326 - acc: 0.9890\n",
      "Epoch 49/50\n",
      "60000/60000 [==============================] - 24s 400us/step - loss: 0.0318 - acc: 0.9892\n",
      "Epoch 50/50\n",
      "60000/60000 [==============================] - 23s 386us/step - loss: 0.0320 - acc: 0.9892\n"
     ]
    },
    {
     "data": {
      "text/plain": [
       "<keras.callbacks.History at 0x7f76f3b4a320>"
      ]
     },
     "execution_count": 8,
     "metadata": {
      "tags": []
     },
     "output_type": "execute_result"
    }
   ],
   "source": [
    "model.compile(optimizer='adam', \n",
    "              loss='sparse_categorical_crossentropy', \n",
    "              metrics=['accuracy'])\n",
    "model.fit(x_train,y_train, epochs=50)"
   ]
  },
  {
   "cell_type": "code",
   "execution_count": 0,
   "metadata": {
    "colab": {
     "base_uri": "https://localhost:8080/",
     "height": 50
    },
    "colab_type": "code",
    "id": "oN4kr0lgvvT-",
    "outputId": "e3b46950-18ed-4bdf-c56a-c3183e7b26b7"
   },
   "outputs": [
    {
     "name": "stdout",
     "output_type": "stream",
     "text": [
      "Test score: 0.6042035289546475\n",
      "Test accuracy: 0.9117\n"
     ]
    }
   ],
   "source": [
    "score = model.evaluate(x_test, y_test, verbose=0)\n",
    "print('Test score:', score[0])\n",
    "print('Test accuracy:', score[1])"
   ]
  },
  {
   "cell_type": "markdown",
   "metadata": {
    "colab_type": "text",
    "id": "hvu7HthsAfUS"
   },
   "source": [
    "For the Training set, the accuracy of the model with 50 epochs is 0.9892.\n",
    "\n",
    "For the Test set, the accuracy of the model with 50 epochs is 0.9117."
   ]
  },
  {
   "cell_type": "markdown",
   "metadata": {
    "colab_type": "text",
    "id": "bNuZQ4l5vvUC"
   },
   "source": [
    "## 2.2"
   ]
  },
  {
   "cell_type": "code",
   "execution_count": 47,
   "metadata": {
    "colab": {
     "base_uri": "https://localhost:8080/",
     "height": 50
    },
    "colab_type": "code",
    "id": "pPiygw1XvvUU",
    "outputId": "e9e00afd-ea32-4faa-ed02-cc0cb1b5d705"
   },
   "outputs": [
    {
     "name": "stdout",
     "output_type": "stream",
     "text": [
      "(60000, 48, 48, 3)\n",
      "(10000, 48, 48, 3)\n"
     ]
    }
   ],
   "source": [
    "#Reload the data to get a different size\n",
    "(x_train, y_train), (x_test, y_test) = fashion_mnist.load_data()\n",
    "\n",
    "x_train = x_train.reshape(x_train.shape[0], 784).astype('float32')\n",
    "x_test = x_test.reshape(x_test.shape[0], 784).astype('float32')\n",
    "x_train=np.dstack([x_train] * 3)\n",
    "x_test=np.dstack([x_test]*3)\n",
    "x_train = x_train.reshape(x_train.shape[0],28,28,3).astype('float32')\n",
    "x_test = x_test.reshape(x_test.shape[0],28,28,3).astype('float32')\n",
    "x_train = np.asarray(\n",
    "    [img_to_array(\n",
    "        array_to_img(im, scale=False).resize((48,48))) for im in x_train])\n",
    "x_test = np.asarray(\n",
    "    [img_to_array(\n",
    "        array_to_img(im, scale=False).resize((48,48))) for im in x_test])\n",
    "\n",
    "x_train = x_train / 255\n",
    "x_test = x_test / 255\n",
    "\n",
    "y_train = np_utils.to_categorical(y_train, 10)\n",
    "y_test = np_utils.to_categorical(y_test, 10)"
   ]
  },
  {
   "cell_type": "code",
   "execution_count": 42,
   "metadata": {
    "colab": {
     "base_uri": "https://localhost:8080/",
     "height": 773
    },
    "colab_type": "code",
    "id": "2yk3H9g6xaWX",
    "outputId": "eff37ffe-ca62-4707-bca3-ee5e77cbe1a5"
   },
   "outputs": [
    {
     "name": "stdout",
     "output_type": "stream",
     "text": [
      "_________________________________________________________________\n",
      "Layer (type)                 Output Shape              Param #   \n",
      "=================================================================\n",
      "input_5 (InputLayer)         (None, 48, 48, 3)         0         \n",
      "_________________________________________________________________\n",
      "block1_conv1 (Conv2D)        (None, 48, 48, 64)        1792      \n",
      "_________________________________________________________________\n",
      "block1_conv2 (Conv2D)        (None, 48, 48, 64)        36928     \n",
      "_________________________________________________________________\n",
      "block1_pool (MaxPooling2D)   (None, 24, 24, 64)        0         \n",
      "_________________________________________________________________\n",
      "block2_conv1 (Conv2D)        (None, 24, 24, 128)       73856     \n",
      "_________________________________________________________________\n",
      "block2_conv2 (Conv2D)        (None, 24, 24, 128)       147584    \n",
      "_________________________________________________________________\n",
      "block2_pool (MaxPooling2D)   (None, 12, 12, 128)       0         \n",
      "_________________________________________________________________\n",
      "block3_conv1 (Conv2D)        (None, 12, 12, 256)       295168    \n",
      "_________________________________________________________________\n",
      "block3_conv2 (Conv2D)        (None, 12, 12, 256)       590080    \n",
      "_________________________________________________________________\n",
      "block3_conv3 (Conv2D)        (None, 12, 12, 256)       590080    \n",
      "_________________________________________________________________\n",
      "block3_pool (MaxPooling2D)   (None, 6, 6, 256)         0         \n",
      "_________________________________________________________________\n",
      "block4_conv1 (Conv2D)        (None, 6, 6, 512)         1180160   \n",
      "_________________________________________________________________\n",
      "block4_conv2 (Conv2D)        (None, 6, 6, 512)         2359808   \n",
      "_________________________________________________________________\n",
      "block4_conv3 (Conv2D)        (None, 6, 6, 512)         2359808   \n",
      "_________________________________________________________________\n",
      "block4_pool (MaxPooling2D)   (None, 3, 3, 512)         0         \n",
      "_________________________________________________________________\n",
      "block5_conv1 (Conv2D)        (None, 3, 3, 512)         2359808   \n",
      "_________________________________________________________________\n",
      "block5_conv2 (Conv2D)        (None, 3, 3, 512)         2359808   \n",
      "_________________________________________________________________\n",
      "block5_conv3 (Conv2D)        (None, 3, 3, 512)         2359808   \n",
      "_________________________________________________________________\n",
      "block5_pool (MaxPooling2D)   (None, 1, 1, 512)         0         \n",
      "=================================================================\n",
      "Total params: 14,714,688\n",
      "Trainable params: 14,714,688\n",
      "Non-trainable params: 0\n",
      "_________________________________________________________________\n"
     ]
    }
   ],
   "source": [
    "x_train = preprocess_input(x_train)\n",
    "x_test  = preprocess_input (x_test)\n",
    "\n",
    "vgg = VGG16(weights='imagenet',include_top=False, input_shape=(48,48,3))\n",
    "vgg.summary()"
   ]
  },
  {
   "cell_type": "code",
   "execution_count": 44,
   "metadata": {
    "colab": {
     "base_uri": "https://localhost:8080/",
     "height": 50
    },
    "colab_type": "code",
    "id": "ffecetluvvUd",
    "outputId": "686dfc93-532a-4482-9e2b-7d9d6eb77aa5"
   },
   "outputs": [
    {
     "name": "stdout",
     "output_type": "stream",
     "text": [
      "60000/60000 [==============================] - 66s 1ms/step\n",
      "10000/10000 [==============================] - 11s 1ms/step\n"
     ]
    }
   ],
   "source": [
    "train_features = vgg.predict(np.array(x_train), batch_size=16, verbose=1)\n",
    "test_features = vgg.predict(np.array(x_test), batch_size=16, verbose=1)\n",
    "train_features_flat = np.reshape(train_features, (60000, 1*1*512))\n",
    "test_features_flat = np.reshape(test_features, (10000, 1*1*512))"
   ]
  },
  {
   "cell_type": "code",
   "execution_count": 45,
   "metadata": {
    "colab": {
     "base_uri": "https://localhost:8080/",
     "height": 235
    },
    "colab_type": "code",
    "id": "sjkMdf9h_ZKI",
    "outputId": "ff97bc87-aa68-49e8-9eb9-2a5b94edabae"
   },
   "outputs": [
    {
     "name": "stdout",
     "output_type": "stream",
     "text": [
      "_________________________________________________________________\n",
      "Layer (type)                 Output Shape              Param #   \n",
      "=================================================================\n",
      "dense_9 (Dense)              (None, 512)               262656    \n",
      "_________________________________________________________________\n",
      "leaky_re_lu_1 (LeakyReLU)    (None, 512)               0         \n",
      "_________________________________________________________________\n",
      "dense_10 (Dense)             (None, 10)                5130      \n",
      "=================================================================\n",
      "Total params: 267,786\n",
      "Trainable params: 267,786\n",
      "Non-trainable params: 0\n",
      "_________________________________________________________________\n"
     ]
    }
   ],
   "source": [
    "trans_model = Sequential()\n",
    "trans_model.add(Dense(512, activation='relu', input_dim=(512)))\n",
    "trans_model.add(LeakyReLU(alpha=0.1))\n",
    "trans_model.add(Dense(10, activation='softmax'))\n",
    "\n",
    "trans_model.compile(\n",
    "    loss='categorical_crossentropy',optimizer=Adam(),metrics=['acc'])\n",
    "\n",
    "trans_model.summary()"
   ]
  },
  {
   "cell_type": "code",
   "execution_count": 48,
   "metadata": {
    "colab": {
     "base_uri": "https://localhost:8080/",
     "height": 3377
    },
    "colab_type": "code",
    "id": "LH89J2wL_ek9",
    "outputId": "88fcd19e-3dc3-4d81-d601-2704de2965b6"
   },
   "outputs": [
    {
     "name": "stdout",
     "output_type": "stream",
     "text": [
      "Epoch 1/100\n",
      "60000/60000 [==============================] - 11s 180us/step - loss: 1.3870 - acc: 0.4907\n",
      "Epoch 2/100\n",
      "60000/60000 [==============================] - 10s 163us/step - loss: 1.0454 - acc: 0.6169\n",
      "Epoch 3/100\n",
      "60000/60000 [==============================] - 10s 161us/step - loss: 0.9522 - acc: 0.6522\n",
      "Epoch 4/100\n",
      "60000/60000 [==============================] - 10s 162us/step - loss: 0.9069 - acc: 0.6686\n",
      "Epoch 5/100\n",
      "60000/60000 [==============================] - 10s 162us/step - loss: 0.8862 - acc: 0.6743\n",
      "Epoch 6/100\n",
      "60000/60000 [==============================] - 10s 160us/step - loss: 0.8684 - acc: 0.6810\n",
      "Epoch 7/100\n",
      "60000/60000 [==============================] - 10s 162us/step - loss: 0.8488 - acc: 0.6874\n",
      "Epoch 8/100\n",
      "60000/60000 [==============================] - 10s 161us/step - loss: 0.8315 - acc: 0.6944\n",
      "Epoch 9/100\n",
      "60000/60000 [==============================] - 10s 160us/step - loss: 0.8208 - acc: 0.6960\n",
      "Epoch 10/100\n",
      "60000/60000 [==============================] - 10s 161us/step - loss: 0.8124 - acc: 0.7017\n",
      "Epoch 11/100\n",
      "60000/60000 [==============================] - 10s 161us/step - loss: 0.8042 - acc: 0.7033\n",
      "Epoch 12/100\n",
      "60000/60000 [==============================] - 10s 161us/step - loss: 0.7938 - acc: 0.7066\n",
      "Epoch 13/100\n",
      "60000/60000 [==============================] - 10s 160us/step - loss: 0.7886 - acc: 0.7099\n",
      "Epoch 14/100\n",
      "60000/60000 [==============================] - 10s 162us/step - loss: 0.7809 - acc: 0.7130\n",
      "Epoch 15/100\n",
      "60000/60000 [==============================] - 10s 161us/step - loss: 0.7748 - acc: 0.7130\n",
      "Epoch 16/100\n",
      "60000/60000 [==============================] - 10s 161us/step - loss: 0.7735 - acc: 0.7157\n",
      "Epoch 17/100\n",
      "60000/60000 [==============================] - 10s 160us/step - loss: 0.7654 - acc: 0.7188\n",
      "Epoch 18/100\n",
      "60000/60000 [==============================] - 10s 160us/step - loss: 0.7598 - acc: 0.7215\n",
      "Epoch 19/100\n",
      "60000/60000 [==============================] - 10s 160us/step - loss: 0.7577 - acc: 0.7209\n",
      "Epoch 20/100\n",
      "60000/60000 [==============================] - 10s 161us/step - loss: 0.7534 - acc: 0.7209\n",
      "Epoch 21/100\n",
      "60000/60000 [==============================] - 10s 160us/step - loss: 0.7504 - acc: 0.7241\n",
      "Epoch 22/100\n",
      "60000/60000 [==============================] - 10s 161us/step - loss: 0.7434 - acc: 0.7267\n",
      "Epoch 23/100\n",
      "60000/60000 [==============================] - 10s 162us/step - loss: 0.7420 - acc: 0.7256\n",
      "Epoch 24/100\n",
      "60000/60000 [==============================] - 10s 161us/step - loss: 0.7373 - acc: 0.7297\n",
      "Epoch 25/100\n",
      "60000/60000 [==============================] - 10s 160us/step - loss: 0.7313 - acc: 0.7311\n",
      "Epoch 26/100\n",
      "60000/60000 [==============================] - 10s 161us/step - loss: 0.7294 - acc: 0.7312\n",
      "Epoch 27/100\n",
      "60000/60000 [==============================] - 10s 161us/step - loss: 0.7288 - acc: 0.7298\n",
      "Epoch 28/100\n",
      "60000/60000 [==============================] - 10s 161us/step - loss: 0.7287 - acc: 0.7304\n",
      "Epoch 29/100\n",
      "60000/60000 [==============================] - 10s 160us/step - loss: 0.7240 - acc: 0.7314\n",
      "Epoch 30/100\n",
      "60000/60000 [==============================] - 10s 160us/step - loss: 0.7211 - acc: 0.7337\n",
      "Epoch 31/100\n",
      "60000/60000 [==============================] - 10s 160us/step - loss: 0.7187 - acc: 0.7357\n",
      "Epoch 32/100\n",
      "60000/60000 [==============================] - 10s 160us/step - loss: 0.7148 - acc: 0.7370\n",
      "Epoch 33/100\n",
      "60000/60000 [==============================] - 10s 161us/step - loss: 0.7135 - acc: 0.7360\n",
      "Epoch 34/100\n",
      "60000/60000 [==============================] - 10s 160us/step - loss: 0.7129 - acc: 0.7367\n",
      "Epoch 35/100\n",
      "60000/60000 [==============================] - 10s 160us/step - loss: 0.7072 - acc: 0.7395\n",
      "Epoch 36/100\n",
      "60000/60000 [==============================] - 10s 160us/step - loss: 0.7106 - acc: 0.7383\n",
      "Epoch 37/100\n",
      "60000/60000 [==============================] - 10s 160us/step - loss: 0.7091 - acc: 0.7367\n",
      "Epoch 38/100\n",
      "60000/60000 [==============================] - 10s 159us/step - loss: 0.7040 - acc: 0.7399\n",
      "Epoch 39/100\n",
      "60000/60000 [==============================] - 10s 160us/step - loss: 0.7073 - acc: 0.7393\n",
      "Epoch 40/100\n",
      "60000/60000 [==============================] - 10s 160us/step - loss: 0.7015 - acc: 0.7423\n",
      "Epoch 41/100\n",
      "60000/60000 [==============================] - 10s 160us/step - loss: 0.7019 - acc: 0.7426\n",
      "Epoch 42/100\n",
      "60000/60000 [==============================] - 10s 160us/step - loss: 0.6967 - acc: 0.7434\n",
      "Epoch 43/100\n",
      "60000/60000 [==============================] - 10s 160us/step - loss: 0.7011 - acc: 0.7414\n",
      "Epoch 44/100\n",
      "60000/60000 [==============================] - 10s 160us/step - loss: 0.6964 - acc: 0.7434\n",
      "Epoch 45/100\n",
      "60000/60000 [==============================] - 10s 161us/step - loss: 0.6939 - acc: 0.7456\n",
      "Epoch 46/100\n",
      "60000/60000 [==============================] - 10s 160us/step - loss: 0.6948 - acc: 0.7429\n",
      "Epoch 47/100\n",
      "60000/60000 [==============================] - 10s 160us/step - loss: 0.6957 - acc: 0.7432\n",
      "Epoch 48/100\n",
      "60000/60000 [==============================] - 10s 159us/step - loss: 0.6920 - acc: 0.7453\n",
      "Epoch 49/100\n",
      "60000/60000 [==============================] - 10s 161us/step - loss: 0.6935 - acc: 0.7439\n",
      "Epoch 50/100\n",
      "60000/60000 [==============================] - 10s 164us/step - loss: 0.6879 - acc: 0.7463\n",
      "Epoch 51/100\n",
      "60000/60000 [==============================] - 10s 161us/step - loss: 0.6908 - acc: 0.7455\n",
      "Epoch 52/100\n",
      "60000/60000 [==============================] - 10s 160us/step - loss: 0.6912 - acc: 0.7462\n",
      "Epoch 53/100\n",
      "60000/60000 [==============================] - 10s 160us/step - loss: 0.6888 - acc: 0.7473\n",
      "Epoch 54/100\n",
      "60000/60000 [==============================] - 10s 159us/step - loss: 0.6863 - acc: 0.7472\n",
      "Epoch 55/100\n",
      "60000/60000 [==============================] - 10s 160us/step - loss: 0.6820 - acc: 0.7506\n",
      "Epoch 56/100\n",
      "60000/60000 [==============================] - 10s 159us/step - loss: 0.6892 - acc: 0.7469\n",
      "Epoch 57/100\n",
      "60000/60000 [==============================] - 10s 160us/step - loss: 0.6828 - acc: 0.7498\n",
      "Epoch 58/100\n",
      "60000/60000 [==============================] - 10s 160us/step - loss: 0.6797 - acc: 0.7508\n",
      "Epoch 59/100\n",
      "60000/60000 [==============================] - 10s 159us/step - loss: 0.6807 - acc: 0.7491\n",
      "Epoch 60/100\n",
      "60000/60000 [==============================] - 10s 162us/step - loss: 0.6795 - acc: 0.7514\n",
      "Epoch 61/100\n",
      "60000/60000 [==============================] - 10s 159us/step - loss: 0.6826 - acc: 0.7495\n",
      "Epoch 62/100\n",
      "60000/60000 [==============================] - 10s 159us/step - loss: 0.6798 - acc: 0.7504\n",
      "Epoch 63/100\n",
      "60000/60000 [==============================] - 10s 160us/step - loss: 0.6756 - acc: 0.7523\n",
      "Epoch 64/100\n",
      "60000/60000 [==============================] - 10s 160us/step - loss: 0.6772 - acc: 0.7522\n",
      "Epoch 65/100\n",
      "60000/60000 [==============================] - 10s 160us/step - loss: 0.6751 - acc: 0.7505\n",
      "Epoch 66/100\n",
      "60000/60000 [==============================] - 10s 160us/step - loss: 0.6739 - acc: 0.7518\n",
      "Epoch 67/100\n",
      "60000/60000 [==============================] - 10s 161us/step - loss: 0.6739 - acc: 0.7529\n",
      "Epoch 68/100\n",
      "60000/60000 [==============================] - 10s 159us/step - loss: 0.6742 - acc: 0.7518\n",
      "Epoch 69/100\n",
      "60000/60000 [==============================] - 10s 160us/step - loss: 0.6708 - acc: 0.7535\n",
      "Epoch 70/100\n",
      "60000/60000 [==============================] - 10s 160us/step - loss: 0.6722 - acc: 0.7538\n",
      "Epoch 71/100\n",
      "60000/60000 [==============================] - 10s 158us/step - loss: 0.6718 - acc: 0.7539\n",
      "Epoch 72/100\n",
      "60000/60000 [==============================] - 10s 160us/step - loss: 0.6694 - acc: 0.7518\n",
      "Epoch 73/100\n",
      "60000/60000 [==============================] - 10s 160us/step - loss: 0.6705 - acc: 0.7536\n",
      "Epoch 74/100\n",
      "60000/60000 [==============================] - 10s 160us/step - loss: 0.6677 - acc: 0.7558\n",
      "Epoch 75/100\n",
      "60000/60000 [==============================] - 10s 160us/step - loss: 0.6676 - acc: 0.7557\n",
      "Epoch 76/100\n",
      "60000/60000 [==============================] - 10s 161us/step - loss: 0.6685 - acc: 0.7560\n",
      "Epoch 77/100\n",
      "60000/60000 [==============================] - 10s 160us/step - loss: 0.6647 - acc: 0.7560\n",
      "Epoch 78/100\n",
      "60000/60000 [==============================] - 10s 160us/step - loss: 0.6666 - acc: 0.7557\n",
      "Epoch 79/100\n",
      "60000/60000 [==============================] - 10s 160us/step - loss: 0.6641 - acc: 0.7557\n",
      "Epoch 80/100\n",
      "60000/60000 [==============================] - 10s 160us/step - loss: 0.6640 - acc: 0.7564\n",
      "Epoch 81/100\n",
      "60000/60000 [==============================] - 10s 159us/step - loss: 0.6631 - acc: 0.7582\n",
      "Epoch 82/100\n",
      "60000/60000 [==============================] - 10s 160us/step - loss: 0.6633 - acc: 0.7559\n",
      "Epoch 83/100\n",
      "60000/60000 [==============================] - 10s 160us/step - loss: 0.6625 - acc: 0.7567\n",
      "Epoch 84/100\n",
      "60000/60000 [==============================] - 10s 161us/step - loss: 0.6627 - acc: 0.7576\n",
      "Epoch 85/100\n",
      "60000/60000 [==============================] - 10s 160us/step - loss: 0.6593 - acc: 0.7581\n",
      "Epoch 86/100\n",
      "60000/60000 [==============================] - 10s 160us/step - loss: 0.6633 - acc: 0.7570\n",
      "Epoch 87/100\n",
      "60000/60000 [==============================] - 10s 160us/step - loss: 0.6570 - acc: 0.7602\n",
      "Epoch 88/100\n",
      "60000/60000 [==============================] - 10s 160us/step - loss: 0.6589 - acc: 0.7584\n",
      "Epoch 89/100\n",
      "60000/60000 [==============================] - 10s 162us/step - loss: 0.6578 - acc: 0.7583\n",
      "Epoch 90/100\n",
      "60000/60000 [==============================] - 10s 160us/step - loss: 0.6562 - acc: 0.7600\n",
      "Epoch 91/100\n",
      "60000/60000 [==============================] - 10s 160us/step - loss: 0.6562 - acc: 0.7597\n",
      "Epoch 92/100\n",
      "60000/60000 [==============================] - 10s 161us/step - loss: 0.6559 - acc: 0.7604\n",
      "Epoch 93/100\n",
      "60000/60000 [==============================] - 10s 160us/step - loss: 0.6569 - acc: 0.7584\n",
      "Epoch 94/100\n",
      "60000/60000 [==============================] - 10s 159us/step - loss: 0.6548 - acc: 0.7594\n",
      "Epoch 95/100\n",
      "60000/60000 [==============================] - 10s 160us/step - loss: 0.6533 - acc: 0.7621\n",
      "Epoch 96/100\n",
      "60000/60000 [==============================] - 10s 161us/step - loss: 0.6524 - acc: 0.7616\n",
      "Epoch 97/100\n",
      "60000/60000 [==============================] - 10s 161us/step - loss: 0.6517 - acc: 0.7607\n",
      "Epoch 98/100\n",
      "60000/60000 [==============================] - 10s 160us/step - loss: 0.6542 - acc: 0.7599\n",
      "Epoch 99/100\n",
      "60000/60000 [==============================] - 10s 160us/step - loss: 0.6522 - acc: 0.7605\n",
      "Epoch 100/100\n",
      "60000/60000 [==============================] - 10s 160us/step - loss: 0.6486 - acc: 0.7616\n"
     ]
    }
   ],
   "source": [
    "eary_stopping = EarlyStopping(\n",
    "    monitor='loss',min_delta=0,patience=10,verbose=1,mode='auto')\n",
    "\n",
    "transfer_history = trans_model.fit(\n",
    "    train_features_flat,y_train,epochs=100,callbacks=[eary_stopping])"
   ]
  },
  {
   "cell_type": "code",
   "execution_count": 49,
   "metadata": {
    "colab": {
     "base_uri": "https://localhost:8080/",
     "height": 50
    },
    "colab_type": "code",
    "id": "cluAagDqvvUi",
    "outputId": "88472604-60a2-4209-bc9d-440508f26494"
   },
   "outputs": [
    {
     "name": "stdout",
     "output_type": "stream",
     "text": [
      "Test score: 0.7034361135482788\n",
      "Test accuracy: 0.7509\n"
     ]
    }
   ],
   "source": [
    "score = trans_model.evaluate(test_features_flat, y_test, verbose=0)\n",
    "print('Test score:', score[0])\n",
    "print('Test accuracy:', score[1])"
   ]
  },
  {
   "cell_type": "markdown",
   "metadata": {
    "colab_type": "text",
    "id": "w2yV65yBBwDA"
   },
   "source": [
    "For the Training set, the accuracy of the model with 100 epochs is 0.7616.\n",
    "\n",
    "For the Test set, the accuracy of the model with 50 epochs is 0.7509."
   ]
  },
  {
   "cell_type": "markdown",
   "metadata": {
    "colab_type": "text",
    "id": "78OioKY4vvUm"
   },
   "source": [
    "# 3\n",
    "# 3.1"
   ]
  },
  {
   "cell_type": "code",
   "execution_count": 0,
   "metadata": {
    "colab": {},
    "colab_type": "code",
    "collapsed": true,
    "id": "g0pRh54qvvUr"
   },
   "outputs": [],
   "source": [
    "with open(\"benign-urls.txt\") as files:\n",
    "    lines = files.readlines()\n",
    "benign_list = [line.rstrip(\"\\n\\r\") for line in lines[0:] if \"#\" not in line]\n",
    "\n",
    "with open(\"malicious-urls.txt\") as files:\n",
    "    lines = files.readlines()\n",
    "malicious_list = [line.rstrip(\"\\n\\r\") for line in lines[0:]]\n",
    "\n",
    "x_train = benign_list + malicious_list\n",
    "y_train = np.concatenate([np.ones(len(benign_list)), np.zeros(len(malicious_list))])"
   ]
  },
  {
   "cell_type": "code",
   "execution_count": 0,
   "metadata": {
    "colab": {},
    "colab_type": "code",
    "collapsed": true,
    "id": "-FO1UKFCvvUx"
   },
   "outputs": [],
   "source": [
    "from string import printable\n",
    "\n",
    "df = pd.DataFrame({'urls':x_train, 'label':y_train}) \n",
    "url_int_tokens = [[printable.index(x) + 1 for x in url if x in printable] for url in df.urls]\n",
    "\n",
    "max_len=75\n",
    "X = sequence.pad_sequences(url_int_tokens, maxlen=max_len)\n",
    "Y = np.array(df.label)\n",
    "\n",
    "x_train, x_test, y_train, y_test = train_test_split(X, Y, test_size=0.3, random_state=42)"
   ]
  },
  {
   "cell_type": "code",
   "execution_count": 78,
   "metadata": {
    "colab": {
     "base_uri": "https://localhost:8080/",
     "height": 605
    },
    "colab_type": "code",
    "id": "ApE_aCbIvvU0",
    "outputId": "1333ec41-dacc-4dc0-99cb-f7a07c816a10"
   },
   "outputs": [
    {
     "name": "stdout",
     "output_type": "stream",
     "text": [
      "_________________________________________________________________\n",
      "Layer (type)                 Output Shape              Param #   \n",
      "=================================================================\n",
      "embedding_3 (Embedding)      (None, 75, 32)            160000    \n",
      "_________________________________________________________________\n",
      "lstm_2 (LSTM)                (None, 100)               53200     \n",
      "_________________________________________________________________\n",
      "dense_14 (Dense)             (None, 1)                 101       \n",
      "=================================================================\n",
      "Total params: 213,301\n",
      "Trainable params: 213,301\n",
      "Non-trainable params: 0\n",
      "_________________________________________________________________\n",
      "None\n",
      "Epoch 1/10\n",
      "47117/47117 [==============================] - 148s 3ms/step - loss: 0.0986 - acc: 0.9795\n",
      "Epoch 2/10\n",
      "47117/47117 [==============================] - 146s 3ms/step - loss: 0.0383 - acc: 0.9835\n",
      "Epoch 3/10\n",
      "47117/47117 [==============================] - 147s 3ms/step - loss: 0.0269 - acc: 0.9867\n",
      "Epoch 4/10\n",
      "47117/47117 [==============================] - 146s 3ms/step - loss: 0.0233 - acc: 0.9891\n",
      "Epoch 5/10\n",
      "47117/47117 [==============================] - 146s 3ms/step - loss: 0.0220 - acc: 0.9898\n",
      "Epoch 6/10\n",
      "47117/47117 [==============================] - 145s 3ms/step - loss: 0.0225 - acc: 0.9888\n",
      "Epoch 7/10\n",
      "47117/47117 [==============================] - 145s 3ms/step - loss: 0.0215 - acc: 0.9897\n",
      "Epoch 8/10\n",
      "47117/47117 [==============================] - 145s 3ms/step - loss: 0.0209 - acc: 0.9900\n",
      "Epoch 9/10\n",
      "47117/47117 [==============================] - 146s 3ms/step - loss: 0.0202 - acc: 0.9900\n",
      "Epoch 10/10\n",
      "47117/47117 [==============================] - 145s 3ms/step - loss: 0.0196 - acc: 0.9904\n"
     ]
    },
    {
     "data": {
      "text/plain": [
       "<keras.callbacks.History at 0x7fa3bbc85da0>"
      ]
     },
     "execution_count": 78,
     "metadata": {
      "tags": []
     },
     "output_type": "execute_result"
    }
   ],
   "source": [
    "top_words = 5000\n",
    "embedding_vecor_length = 32\n",
    "\n",
    "lstm_model = Sequential()\n",
    "lstm_model.add(Embedding(top_words, embedding_vecor_length, input_length=75))\n",
    "lstm_model.add(LSTM(100))\n",
    "lstm_model.add(Dense(1, activation='sigmoid'))\n",
    "lstm_model.compile(loss='binary_crossentropy', optimizer='adam', metrics=['accuracy'])\n",
    "print(lstm_model.summary())\n",
    "\n",
    "eary_stopping = EarlyStopping(\n",
    "    monitor='loss',\n",
    "    min_delta=0,\n",
    "    patience=10,\n",
    "    verbose=1,\n",
    "    mode='auto')\n",
    "\n",
    "callbacks = [eary_stopping]\n",
    "\n",
    "lstm_model.fit(x_train, y_train, epochs=10, batch_size=64, callbacks=callbacks)"
   ]
  },
  {
   "cell_type": "code",
   "execution_count": 79,
   "metadata": {
    "colab": {
     "base_uri": "https://localhost:8080/",
     "height": 50
    },
    "colab_type": "code",
    "id": "Z59Ve4iJvvU4",
    "outputId": "f7cfcbb6-3681-4d2d-e5db-5c85cf6ced21"
   },
   "outputs": [
    {
     "name": "stdout",
     "output_type": "stream",
     "text": [
      "Test loss: 0.019216592526227434\n",
      "Test accuracy: 0.9909874220065366\n"
     ]
    }
   ],
   "source": [
    "score = lstm_model.evaluate(x_test, y_test, verbose=0)\n",
    "print('Test loss:', score[0])\n",
    "print('Test accuracy:', score[1])"
   ]
  },
  {
   "cell_type": "markdown",
   "metadata": {
    "colab_type": "text",
    "id": "YChPIuYRvvU9"
   },
   "source": [
    "## 3.2"
   ]
  },
  {
   "cell_type": "code",
   "execution_count": 80,
   "metadata": {
    "colab": {
     "base_uri": "https://localhost:8080/",
     "height": 1330
    },
    "colab_type": "code",
    "id": "FOq6PlKvvvVC",
    "outputId": "cbcbe5a4-6898-4a88-8fd2-de2d78465eb6"
   },
   "outputs": [
    {
     "name": "stderr",
     "output_type": "stream",
     "text": [
      "/usr/local/lib/python3.6/dist-packages/ipykernel_launcher.py:11: UserWarning: Update your `Embedding` call to the Keras 2 API: `Embedding(input_dim=100, output_dim=32, input_length=75, embeddings_regularizer=<keras.reg...)`\n",
      "  # This is added back by InteractiveShellApp.init_path()\n",
      "/usr/local/lib/python3.6/dist-packages/ipykernel_launcher.py:20: UserWarning: Update your `Conv1D` call to the Keras 2 API: `Conv1D(kernel_size=2, filters=256, padding=\"same\")`\n",
      "/usr/local/lib/python3.6/dist-packages/ipykernel_launcher.py:20: UserWarning: Update your `Conv1D` call to the Keras 2 API: `Conv1D(kernel_size=3, filters=256, padding=\"same\")`\n",
      "/usr/local/lib/python3.6/dist-packages/ipykernel_launcher.py:20: UserWarning: Update your `Conv1D` call to the Keras 2 API: `Conv1D(kernel_size=4, filters=256, padding=\"same\")`\n",
      "/usr/local/lib/python3.6/dist-packages/ipykernel_launcher.py:20: UserWarning: Update your `Conv1D` call to the Keras 2 API: `Conv1D(kernel_size=5, filters=256, padding=\"same\")`\n",
      "/usr/local/lib/python3.6/dist-packages/ipykernel_launcher.py:37: UserWarning: Update your `BatchNormalization` call to the Keras 2 API: `BatchNormalization()`\n",
      "/usr/local/lib/python3.6/dist-packages/ipykernel_launcher.py:42: UserWarning: Update your `BatchNormalization` call to the Keras 2 API: `BatchNormalization()`\n"
     ]
    },
    {
     "name": "stdout",
     "output_type": "stream",
     "text": [
      "__________________________________________________________________________________________________\n",
      "Layer (type)                    Output Shape         Param #     Connected to                     \n",
      "==================================================================================================\n",
      "main_input (InputLayer)         (None, 75)           0                                            \n",
      "__________________________________________________________________________________________________\n",
      "embedding_4 (Embedding)         (None, 75, 32)       3200        main_input[0][0]                 \n",
      "__________________________________________________________________________________________________\n",
      "dropout_8 (Dropout)             (None, 75, 32)       0           embedding_4[0][0]                \n",
      "__________________________________________________________________________________________________\n",
      "conv1d_5 (Conv1D)               (None, 75, 256)      16640       dropout_8[0][0]                  \n",
      "__________________________________________________________________________________________________\n",
      "conv1d_6 (Conv1D)               (None, 75, 256)      24832       dropout_8[0][0]                  \n",
      "__________________________________________________________________________________________________\n",
      "conv1d_7 (Conv1D)               (None, 75, 256)      33024       dropout_8[0][0]                  \n",
      "__________________________________________________________________________________________________\n",
      "conv1d_8 (Conv1D)               (None, 75, 256)      41216       dropout_8[0][0]                  \n",
      "__________________________________________________________________________________________________\n",
      "elu_7 (ELU)                     (None, 75, 256)      0           conv1d_5[0][0]                   \n",
      "__________________________________________________________________________________________________\n",
      "elu_8 (ELU)                     (None, 75, 256)      0           conv1d_6[0][0]                   \n",
      "__________________________________________________________________________________________________\n",
      "elu_9 (ELU)                     (None, 75, 256)      0           conv1d_7[0][0]                   \n",
      "__________________________________________________________________________________________________\n",
      "elu_10 (ELU)                    (None, 75, 256)      0           conv1d_8[0][0]                   \n",
      "__________________________________________________________________________________________________\n",
      "lambda_5 (Lambda)               (None, 256)          0           elu_7[0][0]                      \n",
      "__________________________________________________________________________________________________\n",
      "lambda_6 (Lambda)               (None, 256)          0           elu_8[0][0]                      \n",
      "__________________________________________________________________________________________________\n",
      "lambda_7 (Lambda)               (None, 256)          0           elu_9[0][0]                      \n",
      "__________________________________________________________________________________________________\n",
      "lambda_8 (Lambda)               (None, 256)          0           elu_10[0][0]                     \n",
      "__________________________________________________________________________________________________\n",
      "dropout_9 (Dropout)             (None, 256)          0           lambda_5[0][0]                   \n",
      "__________________________________________________________________________________________________\n",
      "dropout_10 (Dropout)            (None, 256)          0           lambda_6[0][0]                   \n",
      "__________________________________________________________________________________________________\n",
      "dropout_11 (Dropout)            (None, 256)          0           lambda_7[0][0]                   \n",
      "__________________________________________________________________________________________________\n",
      "dropout_12 (Dropout)            (None, 256)          0           lambda_8[0][0]                   \n",
      "__________________________________________________________________________________________________\n",
      "concatenate_2 (Concatenate)     (None, 1024)         0           dropout_9[0][0]                  \n",
      "                                                                 dropout_10[0][0]                 \n",
      "                                                                 dropout_11[0][0]                 \n",
      "                                                                 dropout_12[0][0]                 \n",
      "__________________________________________________________________________________________________\n",
      "dense_15 (Dense)                (None, 1024)         1049600     concatenate_2[0][0]              \n",
      "__________________________________________________________________________________________________\n",
      "elu_11 (ELU)                    (None, 1024)         0           dense_15[0][0]                   \n",
      "__________________________________________________________________________________________________\n",
      "batch_normalization_3 (BatchNor (None, 1024)         4096        elu_11[0][0]                     \n",
      "__________________________________________________________________________________________________\n",
      "dropout_13 (Dropout)            (None, 1024)         0           batch_normalization_3[0][0]      \n",
      "__________________________________________________________________________________________________\n",
      "dense_16 (Dense)                (None, 1024)         1049600     dropout_13[0][0]                 \n",
      "__________________________________________________________________________________________________\n",
      "elu_12 (ELU)                    (None, 1024)         0           dense_16[0][0]                   \n",
      "__________________________________________________________________________________________________\n",
      "batch_normalization_4 (BatchNor (None, 1024)         4096        elu_12[0][0]                     \n",
      "__________________________________________________________________________________________________\n",
      "dropout_14 (Dropout)            (None, 1024)         0           batch_normalization_4[0][0]      \n",
      "__________________________________________________________________________________________________\n",
      "output (Dense)                  (None, 1)            1025        dropout_14[0][0]                 \n",
      "==================================================================================================\n",
      "Total params: 2,227,329\n",
      "Trainable params: 2,223,233\n",
      "Non-trainable params: 4,096\n",
      "__________________________________________________________________________________________________\n"
     ]
    },
    {
     "name": "stderr",
     "output_type": "stream",
     "text": [
      "/usr/local/lib/python3.6/dist-packages/ipykernel_launcher.py:47: UserWarning: Update your `Model` call to the Keras 2 API: `Model(inputs=[<tf.Tenso..., outputs=[<tf.Tenso...)`\n"
     ]
    }
   ],
   "source": [
    "from keras import regularizers\n",
    "max_len=75\n",
    "emb_dim=32\n",
    "max_vocab_len=100\n",
    "W_reg=regularizers.l2(1e-4)\n",
    "\n",
    "# Input\n",
    "main_input = Input(shape=(max_len,), dtype='int32', name='main_input')\n",
    "# Embedding layer\n",
    "emb = Embedding(input_dim=max_vocab_len, output_dim=emb_dim, input_length=max_len,\n",
    "            W_regularizer=W_reg)(main_input) \n",
    "emb = Dropout(0.25)(emb)\n",
    "\n",
    "\n",
    "def sum_1d(X):\n",
    "    return K.sum(X, axis=1)\n",
    "\n",
    "def get_conv_layer(emb, kernel_size=5, filters=256):\n",
    "    # Conv layer\n",
    "    conv = Convolution1D(kernel_size=kernel_size, filters=filters, \\\n",
    "                 border_mode='same')(emb)\n",
    "    conv = ELU()(conv)\n",
    "\n",
    "    conv = Lambda(sum_1d, output_shape=(filters,))(conv)\n",
    "    #conv = BatchNormalization(mode=0)(conv)\n",
    "    conv = Dropout(0.5)(conv)\n",
    "    return conv\n",
    "\n",
    "conv1 = get_conv_layer(emb, kernel_size=2, filters=256)\n",
    "conv2 = get_conv_layer(emb, kernel_size=3, filters=256)\n",
    "conv3 = get_conv_layer(emb, kernel_size=4, filters=256)\n",
    "conv4 = get_conv_layer(emb, kernel_size=5, filters=256)\n",
    "\n",
    "merged = concatenate([conv1,conv2,conv3,conv4], axis=1)\n",
    "\n",
    "hidden1 = Dense(1024)(merged)\n",
    "hidden1 = ELU()(hidden1)\n",
    "hidden1 = BatchNormalization(mode=0)(hidden1)\n",
    "hidden1 = Dropout(0.5)(hidden1)\n",
    "\n",
    "hidden2 = Dense(1024)(hidden1)\n",
    "hidden2 = ELU()(hidden2)\n",
    "hidden2 = BatchNormalization(mode=0)(hidden2)\n",
    "hidden2 = Dropout(0.5)(hidden2)\n",
    "\n",
    "output = Dense(1, activation='sigmoid', name='output')(hidden2)\n",
    "\n",
    "cnn_model = Model(input=[main_input], output=[output])\n",
    "adam = Adam(lr=1e-4, beta_1=0.9, beta_2=0.999, epsilon=1e-08, decay=0.0)\n",
    "cnn_model.compile(optimizer=adam, loss='binary_crossentropy', metrics=['accuracy'])\n",
    "cnn_model.summary()"
   ]
  },
  {
   "cell_type": "code",
   "execution_count": 81,
   "metadata": {
    "colab": {
     "base_uri": "https://localhost:8080/",
     "height": 722
    },
    "colab_type": "code",
    "id": "3pxRKMX-vvVF",
    "outputId": "9baaa416-207d-4b5f-ba79-2c77e97b98a3"
   },
   "outputs": [
    {
     "name": "stdout",
     "output_type": "stream",
     "text": [
      "Epoch 1/20\n",
      "47117/47117 [==============================] - 18s 388us/step - loss: 0.5110 - acc: 0.7634\n",
      "Epoch 2/20\n",
      "47117/47117 [==============================] - 16s 341us/step - loss: 0.1833 - acc: 0.9482\n",
      "Epoch 3/20\n",
      "47117/47117 [==============================] - 16s 335us/step - loss: 0.1254 - acc: 0.9699\n",
      "Epoch 4/20\n",
      "47117/47117 [==============================] - 16s 334us/step - loss: 0.1121 - acc: 0.9736\n",
      "Epoch 5/20\n",
      "47117/47117 [==============================] - 16s 335us/step - loss: 0.1064 - acc: 0.9743\n",
      "Epoch 6/20\n",
      "47117/47117 [==============================] - 16s 335us/step - loss: 0.0979 - acc: 0.9750\n",
      "Epoch 7/20\n",
      "47117/47117 [==============================] - 16s 334us/step - loss: 0.0884 - acc: 0.9753\n",
      "Epoch 8/20\n",
      "47117/47117 [==============================] - 16s 334us/step - loss: 0.0803 - acc: 0.9764\n",
      "Epoch 9/20\n",
      "47117/47117 [==============================] - 16s 333us/step - loss: 0.0749 - acc: 0.9771\n",
      "Epoch 10/20\n",
      "47117/47117 [==============================] - 16s 333us/step - loss: 0.0707 - acc: 0.9780\n",
      "Epoch 11/20\n",
      "47117/47117 [==============================] - 16s 335us/step - loss: 0.0655 - acc: 0.9786\n",
      "Epoch 12/20\n",
      "47117/47117 [==============================] - 16s 333us/step - loss: 0.0640 - acc: 0.9790\n",
      "Epoch 13/20\n",
      "47117/47117 [==============================] - 16s 333us/step - loss: 0.0587 - acc: 0.9794\n",
      "Epoch 14/20\n",
      "47117/47117 [==============================] - 16s 332us/step - loss: 0.0568 - acc: 0.9808\n",
      "Epoch 15/20\n",
      "47117/47117 [==============================] - 16s 333us/step - loss: 0.0530 - acc: 0.9809\n",
      "Epoch 16/20\n",
      "47117/47117 [==============================] - 16s 334us/step - loss: 0.0485 - acc: 0.9824\n",
      "Epoch 17/20\n",
      "47117/47117 [==============================] - 16s 334us/step - loss: 0.0440 - acc: 0.9838\n",
      "Epoch 18/20\n",
      "47117/47117 [==============================] - 16s 333us/step - loss: 0.0420 - acc: 0.9841\n",
      "Epoch 19/20\n",
      "47117/47117 [==============================] - 16s 332us/step - loss: 0.0422 - acc: 0.9840\n",
      "Epoch 20/20\n",
      "47117/47117 [==============================] - 16s 333us/step - loss: 0.0403 - acc: 0.9836\n",
      "Test loss: 0.024124822271602474\n",
      "Test accuracy: 0.9870753689214619\n"
     ]
    }
   ],
   "source": [
    "cnn_model.fit(x_train, y_train, epochs=20, batch_size=64, callbacks=callbacks)\n",
    "score = cnn_model.evaluate(x_test, y_test, verbose=0)\n",
    "print('Test loss:', score[0])\n",
    "print('Test accuracy:', score[1])"
   ]
  },
  {
   "cell_type": "markdown",
   "metadata": {
    "colab_type": "text",
    "id": "aEZXMJSBrzvG"
   },
   "source": [
    "# 3.3"
   ]
  },
  {
   "cell_type": "code",
   "execution_count": 95,
   "metadata": {
    "colab": {
     "base_uri": "https://localhost:8080/",
     "height": 376
    },
    "colab_type": "code",
    "id": "JeY_U_ZkvvVK",
    "outputId": "251228c6-c9fb-470a-a376-39002190d498"
   },
   "outputs": [
    {
     "data": {
      "image/png": "[encoded data removed]",
      "text/plain": [
       "<matplotlib.figure.Figure at 0x7fa3b51359b0>"
      ]
     },
     "metadata": {
      "tags": []
     },
     "output_type": "display_data"
    }
   ],
   "source": [
    "# LSTM and CNN ROC Curve\n",
    "lstm_y_pred_keras = lstm_model.predict(x_test).ravel()\n",
    "lstm_fpr_keras, lstm_tpr_keras, lstm_thresholds_keras = roc_curve(y_test, lstm_y_pred_keras)\n",
    "lstm_auc_keras = auc(lstm_fpr_keras, lstm_tpr_keras)\n",
    "\n",
    "cnn_y_pred_keras = cnn_model.predict(x_test).ravel()\n",
    "cnn_fpr_keras, cnn_tpr_keras, cnn_thresholds_keras = roc_curve(y_test, cnn_y_pred_keras)\n",
    "cnn_auc_keras = auc(cnn_fpr_keras, cnn_tpr_keras)\n",
    "\n",
    "plt.figure(1)\n",
    "plt.plot([0, 1], [0, 1], 'k--')\n",
    "plt.plot(lstm_fpr_keras, lstm_tpr_keras, label='LSTM (area = {:.3f})'.format(lstm_auc_keras))\n",
    "plt.plot(cnn_fpr_keras, cnn_tpr_keras, label='CNN (area = {:.3f})'.format(cnn_auc_keras))\n",
    "plt.xlabel('False positive rate')\n",
    "plt.ylabel('True positive rate')\n",
    "plt.title('ROC curve')\n",
    "plt.legend(loc='best')\n",
    "plt.show()"
   ]
  },
  {
   "cell_type": "markdown",
   "metadata": {},
   "source": [
    "Accroding to the ROC curve, each technique get a very high AUC sore and the score for LSTM is a little bit higher."
   ]
  }
 ],
 "metadata": {
  "accelerator": "GPU",
  "colab": {
   "collapsed_sections": [],
   "name": "HW2.ipynb",
   "provenance": [],
   "toc_visible": true,
   "version": "0.3.2"
  },
  "kernelspec": {
   "display_name": "Python 3",
   "language": "python",
   "name": "python3"
  },
  "language_info": {
   "codemirror_mode": {
    "name": "ipython",
    "version": 3
   },
   "file_extension": ".py",
   "mimetype": "text/x-python",
   "name": "python",
   "nbconvert_exporter": "python",
   "pygments_lexer": "ipython3",
   "version": "3.6.6"
  }
 },
 "nbformat": 4,
 "nbformat_minor": 1
}
